{
  "cells": [
    {
      "cell_type": "code",
      "source": [
        "!pip install flaml"
      ],
      "metadata": {
        "colab": {
          "base_uri": "https://localhost:8080/"
        },
        "id": "D43TkiNJMdq-",
        "outputId": "e5c04bfd-e281-4905-a88a-890605889d19"
      },
      "execution_count": null,
      "outputs": [
        {
          "output_type": "stream",
          "name": "stdout",
          "text": [
            "Looking in indexes: https://pypi.org/simple, https://us-python.pkg.dev/colab-wheels/public/simple/\n",
            "Collecting flaml\n",
            "  Downloading FLAML-1.0.12-py3-none-any.whl (206 kB)\n",
            "\u001b[K     |████████████████████████████████| 206 kB 29.9 MB/s \n",
            "\u001b[?25hRequirement already satisfied: scipy>=1.4.1 in /usr/local/lib/python3.7/dist-packages (from flaml) (1.7.3)\n",
            "Requirement already satisfied: xgboost>=0.90 in /usr/local/lib/python3.7/dist-packages (from flaml) (0.90)\n",
            "Requirement already satisfied: pandas>=1.1.4 in /usr/local/lib/python3.7/dist-packages (from flaml) (1.3.5)\n",
            "Requirement already satisfied: scikit-learn>=0.24 in /usr/local/lib/python3.7/dist-packages (from flaml) (1.0.2)\n",
            "Collecting lightgbm>=2.3.1\n",
            "  Downloading lightgbm-3.3.2-py3-none-manylinux1_x86_64.whl (2.0 MB)\n",
            "\u001b[K     |████████████████████████████████| 2.0 MB 29.7 MB/s \n",
            "\u001b[?25hRequirement already satisfied: NumPy>=1.17.0rc1 in /usr/local/lib/python3.7/dist-packages (from flaml) (1.21.6)\n",
            "Requirement already satisfied: wheel in /usr/local/lib/python3.7/dist-packages (from lightgbm>=2.3.1->flaml) (0.37.1)\n",
            "Requirement already satisfied: pytz>=2017.3 in /usr/local/lib/python3.7/dist-packages (from pandas>=1.1.4->flaml) (2022.2.1)\n",
            "Requirement already satisfied: python-dateutil>=2.7.3 in /usr/local/lib/python3.7/dist-packages (from pandas>=1.1.4->flaml) (2.8.2)\n",
            "Requirement already satisfied: six>=1.5 in /usr/local/lib/python3.7/dist-packages (from python-dateutil>=2.7.3->pandas>=1.1.4->flaml) (1.15.0)\n",
            "Requirement already satisfied: threadpoolctl>=2.0.0 in /usr/local/lib/python3.7/dist-packages (from scikit-learn>=0.24->flaml) (3.1.0)\n",
            "Requirement already satisfied: joblib>=0.11 in /usr/local/lib/python3.7/dist-packages (from scikit-learn>=0.24->flaml) (1.1.0)\n",
            "Installing collected packages: lightgbm, flaml\n",
            "  Attempting uninstall: lightgbm\n",
            "    Found existing installation: lightgbm 2.2.3\n",
            "    Uninstalling lightgbm-2.2.3:\n",
            "      Successfully uninstalled lightgbm-2.2.3\n",
            "Successfully installed flaml-1.0.12 lightgbm-3.3.2\n"
          ]
        }
      ]
    },
    {
      "cell_type": "code",
      "execution_count": null,
      "metadata": {
        "id": "TuRk9K_GMBSL"
      },
      "outputs": [],
      "source": [
        "import warnings\n",
        "warnings.filterwarnings(\"ignore\")\n",
        "\n",
        "import pandas  as pd \n",
        "import numpy as np \n",
        "import matplotlib.pyplot as plt \n",
        "import seaborn as sns \n",
        "from sklearn.preprocessing import StandardScaler\n",
        "from scipy import stats\n",
        "from sklearn.model_selection import train_test_split\n",
        "from google.colab import drive"
      ]
    },
    {
      "cell_type": "code",
      "source": [
        "drive.mount('/content/drive')"
      ],
      "metadata": {
        "colab": {
          "base_uri": "https://localhost:8080/"
        },
        "id": "01vRk_ykMM-X",
        "outputId": "fb573101-fb2d-457c-ccbd-679a8aa1995b"
      },
      "execution_count": null,
      "outputs": [
        {
          "output_type": "stream",
          "name": "stdout",
          "text": [
            "Mounted at /content/drive\n"
          ]
        }
      ]
    },
    {
      "cell_type": "code",
      "execution_count": null,
      "metadata": {
        "colab": {
          "base_uri": "https://localhost:8080/"
        },
        "id": "quzaQE6rMBSO",
        "outputId": "a1456aaf-c717-45e0-a13e-11967079e2e0"
      },
      "outputs": [
        {
          "output_type": "stream",
          "name": "stdout",
          "text": [
            "<class 'pandas.core.frame.DataFrame'>\n",
            "Int64Index: 400 entries, 0 to 399\n",
            "Data columns (total 11 columns):\n",
            " #   Column       Non-Null Count  Dtype  \n",
            "---  ------       --------------  -----  \n",
            " 0   Sales        400 non-null    float64\n",
            " 1   CompPrice    400 non-null    int64  \n",
            " 2   Income       400 non-null    int64  \n",
            " 3   Advertising  400 non-null    int64  \n",
            " 4   Population   400 non-null    int64  \n",
            " 5   Price        400 non-null    int64  \n",
            " 6   ShelveLoc    400 non-null    object \n",
            " 7   Age          400 non-null    int64  \n",
            " 8   Education    400 non-null    int64  \n",
            " 9   Urban        400 non-null    object \n",
            " 10  US           400 non-null    object \n",
            "dtypes: float64(1), int64(7), object(3)\n",
            "memory usage: 37.5+ KB\n"
          ]
        }
      ],
      "source": [
        "df = pd.read_csv('/content/drive/MyDrive/Carseats.csv')\n",
        "df.drop_duplicates(inplace = True)\n",
        "df.dropna(inplace = True)\n",
        "df.info()"
      ]
    },
    {
      "cell_type": "code",
      "execution_count": null,
      "metadata": {
        "id": "QBnbMUMpMBSP"
      },
      "outputs": [],
      "source": [
        "X = df.drop('Sales', axis = 1)\n",
        "y = df.Sales"
      ]
    },
    {
      "cell_type": "code",
      "execution_count": null,
      "metadata": {
        "id": "iaO_u9JfMBSQ"
      },
      "outputs": [],
      "source": [
        "X_train, X_test, y_train, y_test = train_test_split(X, y, test_size = .30, random_state = 33)"
      ]
    },
    {
      "cell_type": "code",
      "execution_count": null,
      "metadata": {
        "colab": {
          "base_uri": "https://localhost:8080/",
          "height": 206
        },
        "id": "7PEKS__JMBSR",
        "outputId": "6bf859d5-a194-446a-c67f-37f56f22e116"
      },
      "outputs": [
        {
          "output_type": "execute_result",
          "data": {
            "text/plain": [
              "     CompPrice    Income  Advertising  Population     Price       Age  \\\n",
              "11   -0.519682  0.865873    -0.413823    1.619408 -0.952591 -0.180258   \n",
              "214  -0.648968  1.614819    -0.562949   -1.456166 -0.391427  1.260019   \n",
              "361   0.385317 -1.594949     0.480930   -0.543633 -0.520926  0.195466   \n",
              "98   -0.196468  0.259584     2.568687    0.801508  0.471902 -1.056948   \n",
              "358  -0.131825  0.937202     0.480930   -1.300697  0.083404  1.009536   \n",
              "\n",
              "     Education  \n",
              "11   -0.386274  \n",
              "214   1.504576  \n",
              "361   0.370066  \n",
              "98    0.748236  \n",
              "358  -1.142613  "
            ],
            "text/html": [
              "\n",
              "  <div id=\"df-3ae3a53e-49ef-457b-b95b-85606c4c4063\">\n",
              "    <div class=\"colab-df-container\">\n",
              "      <div>\n",
              "<style scoped>\n",
              "    .dataframe tbody tr th:only-of-type {\n",
              "        vertical-align: middle;\n",
              "    }\n",
              "\n",
              "    .dataframe tbody tr th {\n",
              "        vertical-align: top;\n",
              "    }\n",
              "\n",
              "    .dataframe thead th {\n",
              "        text-align: right;\n",
              "    }\n",
              "</style>\n",
              "<table border=\"1\" class=\"dataframe\">\n",
              "  <thead>\n",
              "    <tr style=\"text-align: right;\">\n",
              "      <th></th>\n",
              "      <th>CompPrice</th>\n",
              "      <th>Income</th>\n",
              "      <th>Advertising</th>\n",
              "      <th>Population</th>\n",
              "      <th>Price</th>\n",
              "      <th>Age</th>\n",
              "      <th>Education</th>\n",
              "    </tr>\n",
              "  </thead>\n",
              "  <tbody>\n",
              "    <tr>\n",
              "      <th>11</th>\n",
              "      <td>-0.519682</td>\n",
              "      <td>0.865873</td>\n",
              "      <td>-0.413823</td>\n",
              "      <td>1.619408</td>\n",
              "      <td>-0.952591</td>\n",
              "      <td>-0.180258</td>\n",
              "      <td>-0.386274</td>\n",
              "    </tr>\n",
              "    <tr>\n",
              "      <th>214</th>\n",
              "      <td>-0.648968</td>\n",
              "      <td>1.614819</td>\n",
              "      <td>-0.562949</td>\n",
              "      <td>-1.456166</td>\n",
              "      <td>-0.391427</td>\n",
              "      <td>1.260019</td>\n",
              "      <td>1.504576</td>\n",
              "    </tr>\n",
              "    <tr>\n",
              "      <th>361</th>\n",
              "      <td>0.385317</td>\n",
              "      <td>-1.594949</td>\n",
              "      <td>0.480930</td>\n",
              "      <td>-0.543633</td>\n",
              "      <td>-0.520926</td>\n",
              "      <td>0.195466</td>\n",
              "      <td>0.370066</td>\n",
              "    </tr>\n",
              "    <tr>\n",
              "      <th>98</th>\n",
              "      <td>-0.196468</td>\n",
              "      <td>0.259584</td>\n",
              "      <td>2.568687</td>\n",
              "      <td>0.801508</td>\n",
              "      <td>0.471902</td>\n",
              "      <td>-1.056948</td>\n",
              "      <td>0.748236</td>\n",
              "    </tr>\n",
              "    <tr>\n",
              "      <th>358</th>\n",
              "      <td>-0.131825</td>\n",
              "      <td>0.937202</td>\n",
              "      <td>0.480930</td>\n",
              "      <td>-1.300697</td>\n",
              "      <td>0.083404</td>\n",
              "      <td>1.009536</td>\n",
              "      <td>-1.142613</td>\n",
              "    </tr>\n",
              "  </tbody>\n",
              "</table>\n",
              "</div>\n",
              "      <button class=\"colab-df-convert\" onclick=\"convertToInteractive('df-3ae3a53e-49ef-457b-b95b-85606c4c4063')\"\n",
              "              title=\"Convert this dataframe to an interactive table.\"\n",
              "              style=\"display:none;\">\n",
              "        \n",
              "  <svg xmlns=\"http://www.w3.org/2000/svg\" height=\"24px\"viewBox=\"0 0 24 24\"\n",
              "       width=\"24px\">\n",
              "    <path d=\"M0 0h24v24H0V0z\" fill=\"none\"/>\n",
              "    <path d=\"M18.56 5.44l.94 2.06.94-2.06 2.06-.94-2.06-.94-.94-2.06-.94 2.06-2.06.94zm-11 1L8.5 8.5l.94-2.06 2.06-.94-2.06-.94L8.5 2.5l-.94 2.06-2.06.94zm10 10l.94 2.06.94-2.06 2.06-.94-2.06-.94-.94-2.06-.94 2.06-2.06.94z\"/><path d=\"M17.41 7.96l-1.37-1.37c-.4-.4-.92-.59-1.43-.59-.52 0-1.04.2-1.43.59L10.3 9.45l-7.72 7.72c-.78.78-.78 2.05 0 2.83L4 21.41c.39.39.9.59 1.41.59.51 0 1.02-.2 1.41-.59l7.78-7.78 2.81-2.81c.8-.78.8-2.07 0-2.86zM5.41 20L4 18.59l7.72-7.72 1.47 1.35L5.41 20z\"/>\n",
              "  </svg>\n",
              "      </button>\n",
              "      \n",
              "  <style>\n",
              "    .colab-df-container {\n",
              "      display:flex;\n",
              "      flex-wrap:wrap;\n",
              "      gap: 12px;\n",
              "    }\n",
              "\n",
              "    .colab-df-convert {\n",
              "      background-color: #E8F0FE;\n",
              "      border: none;\n",
              "      border-radius: 50%;\n",
              "      cursor: pointer;\n",
              "      display: none;\n",
              "      fill: #1967D2;\n",
              "      height: 32px;\n",
              "      padding: 0 0 0 0;\n",
              "      width: 32px;\n",
              "    }\n",
              "\n",
              "    .colab-df-convert:hover {\n",
              "      background-color: #E2EBFA;\n",
              "      box-shadow: 0px 1px 2px rgba(60, 64, 67, 0.3), 0px 1px 3px 1px rgba(60, 64, 67, 0.15);\n",
              "      fill: #174EA6;\n",
              "    }\n",
              "\n",
              "    [theme=dark] .colab-df-convert {\n",
              "      background-color: #3B4455;\n",
              "      fill: #D2E3FC;\n",
              "    }\n",
              "\n",
              "    [theme=dark] .colab-df-convert:hover {\n",
              "      background-color: #434B5C;\n",
              "      box-shadow: 0px 1px 3px 1px rgba(0, 0, 0, 0.15);\n",
              "      filter: drop-shadow(0px 1px 2px rgba(0, 0, 0, 0.3));\n",
              "      fill: #FFFFFF;\n",
              "    }\n",
              "  </style>\n",
              "\n",
              "      <script>\n",
              "        const buttonEl =\n",
              "          document.querySelector('#df-3ae3a53e-49ef-457b-b95b-85606c4c4063 button.colab-df-convert');\n",
              "        buttonEl.style.display =\n",
              "          google.colab.kernel.accessAllowed ? 'block' : 'none';\n",
              "\n",
              "        async function convertToInteractive(key) {\n",
              "          const element = document.querySelector('#df-3ae3a53e-49ef-457b-b95b-85606c4c4063');\n",
              "          const dataTable =\n",
              "            await google.colab.kernel.invokeFunction('convertToInteractive',\n",
              "                                                     [key], {});\n",
              "          if (!dataTable) return;\n",
              "\n",
              "          const docLinkHtml = 'Like what you see? Visit the ' +\n",
              "            '<a target=\"_blank\" href=https://colab.research.google.com/notebooks/data_table.ipynb>data table notebook</a>'\n",
              "            + ' to learn more about interactive tables.';\n",
              "          element.innerHTML = '';\n",
              "          dataTable['output_type'] = 'display_data';\n",
              "          await google.colab.output.renderOutput(dataTable, element);\n",
              "          const docLink = document.createElement('div');\n",
              "          docLink.innerHTML = docLinkHtml;\n",
              "          element.appendChild(docLink);\n",
              "        }\n",
              "      </script>\n",
              "    </div>\n",
              "  </div>\n",
              "  "
            ]
          },
          "metadata": {},
          "execution_count": 7
        }
      ],
      "source": [
        "X_train_numerics = X_train.select_dtypes(exclude = 'object')\n",
        "ss = StandardScaler()\n",
        "X_train_numeric = pd.DataFrame(ss.fit_transform(X_train_numerics))\n",
        "X_train_numeric.set_index(X_train.index, inplace = True)\n",
        "X_train_numeric.columns = X_train_numerics.columns\n",
        "X_train_numeric.head()"
      ]
    },
    {
      "cell_type": "code",
      "execution_count": null,
      "metadata": {
        "id": "P-BQOQ0mMBSR"
      },
      "outputs": [],
      "source": [
        "non_outliers = (np.abs(stats.zscore(X_train_numeric)) < 2.5).all(axis = 1)\n",
        "X_train_numeric = X_train_numeric[non_outliers]\n",
        "y_train = y_train[non_outliers]\n",
        "X_train_cat = X_train.select_dtypes(include = 'object')\n",
        "\n",
        "from sklearn.preprocessing import LabelBinarizer\n",
        "urban_bin = LabelBinarizer()\n",
        "us_bin = LabelBinarizer()\n",
        "X_train_cat.Urban = urban_bin.fit_transform(X_train_cat.Urban)\n",
        "X_train_cat.US = us_bin.fit_transform(X_train_cat.US)"
      ]
    },
    {
      "cell_type": "code",
      "execution_count": null,
      "metadata": {
        "id": "0oiXhlqMMBSS"
      },
      "outputs": [],
      "source": [
        "X_cat_prepped = X_train_cat.merge(pd.get_dummies(X_train_cat.ShelveLoc, drop_first=True), left_index=True, right_index=True)\n",
        "X_cat_prepped.drop('ShelveLoc', axis = 1, inplace=True)"
      ]
    },
    {
      "cell_type": "code",
      "execution_count": null,
      "metadata": {
        "colab": {
          "base_uri": "https://localhost:8080/"
        },
        "id": "jxdBRhbLMBST",
        "outputId": "d3a84840-aa4e-47c3-cf52-c7c125b2e891"
      },
      "outputs": [
        {
          "output_type": "execute_result",
          "data": {
            "text/plain": [
              "(271, 11)"
            ]
          },
          "metadata": {},
          "execution_count": 10
        }
      ],
      "source": [
        "X_train_prep = pd.merge(X_cat_prepped, X_train_numeric, left_index = True, right_index = True)\n",
        "X_train_prep.shape"
      ]
    },
    {
      "cell_type": "code",
      "execution_count": null,
      "metadata": {
        "colab": {
          "base_uri": "https://localhost:8080/",
          "height": 206
        },
        "id": "v-hMU8UNMBSU",
        "outputId": "ad207ce4-1755-45d0-cb02-dd683e4e3eeb"
      },
      "outputs": [
        {
          "output_type": "execute_result",
          "data": {
            "text/plain": [
              "     Urban  US  Good  Medium  CompPrice    Income  Advertising  Population  \\\n",
              "239      1   1     0       0  -0.131825  1.258178    -1.010325   -0.773456   \n",
              "322      1   1     1       0   0.967103 -0.703347     0.480930    0.247229   \n",
              "375      1   0     0       1   0.449960 -0.846003    -0.413823   -0.388164   \n",
              "90       0   0     0       1  -0.648968 -1.701942    -1.010325    1.538294   \n",
              "70       1   1     1       0  -2.329681  0.402240     1.226557   -0.178620   \n",
              "\n",
              "        Price       Age  Education  \n",
              "239  0.083404  0.571191   0.748236  \n",
              "322  0.989899  0.445949   0.370066  \n",
              "375  0.342402  1.260019  -1.142613  \n",
              "90  -0.564093  0.696432  -1.142613  \n",
              "70  -0.736759  1.322639  -0.764443  "
            ],
            "text/html": [
              "\n",
              "  <div id=\"df-8312b45d-7176-4279-93a6-594424362837\">\n",
              "    <div class=\"colab-df-container\">\n",
              "      <div>\n",
              "<style scoped>\n",
              "    .dataframe tbody tr th:only-of-type {\n",
              "        vertical-align: middle;\n",
              "    }\n",
              "\n",
              "    .dataframe tbody tr th {\n",
              "        vertical-align: top;\n",
              "    }\n",
              "\n",
              "    .dataframe thead th {\n",
              "        text-align: right;\n",
              "    }\n",
              "</style>\n",
              "<table border=\"1\" class=\"dataframe\">\n",
              "  <thead>\n",
              "    <tr style=\"text-align: right;\">\n",
              "      <th></th>\n",
              "      <th>Urban</th>\n",
              "      <th>US</th>\n",
              "      <th>Good</th>\n",
              "      <th>Medium</th>\n",
              "      <th>CompPrice</th>\n",
              "      <th>Income</th>\n",
              "      <th>Advertising</th>\n",
              "      <th>Population</th>\n",
              "      <th>Price</th>\n",
              "      <th>Age</th>\n",
              "      <th>Education</th>\n",
              "    </tr>\n",
              "  </thead>\n",
              "  <tbody>\n",
              "    <tr>\n",
              "      <th>239</th>\n",
              "      <td>1</td>\n",
              "      <td>1</td>\n",
              "      <td>0</td>\n",
              "      <td>0</td>\n",
              "      <td>-0.131825</td>\n",
              "      <td>1.258178</td>\n",
              "      <td>-1.010325</td>\n",
              "      <td>-0.773456</td>\n",
              "      <td>0.083404</td>\n",
              "      <td>0.571191</td>\n",
              "      <td>0.748236</td>\n",
              "    </tr>\n",
              "    <tr>\n",
              "      <th>322</th>\n",
              "      <td>1</td>\n",
              "      <td>1</td>\n",
              "      <td>1</td>\n",
              "      <td>0</td>\n",
              "      <td>0.967103</td>\n",
              "      <td>-0.703347</td>\n",
              "      <td>0.480930</td>\n",
              "      <td>0.247229</td>\n",
              "      <td>0.989899</td>\n",
              "      <td>0.445949</td>\n",
              "      <td>0.370066</td>\n",
              "    </tr>\n",
              "    <tr>\n",
              "      <th>375</th>\n",
              "      <td>1</td>\n",
              "      <td>0</td>\n",
              "      <td>0</td>\n",
              "      <td>1</td>\n",
              "      <td>0.449960</td>\n",
              "      <td>-0.846003</td>\n",
              "      <td>-0.413823</td>\n",
              "      <td>-0.388164</td>\n",
              "      <td>0.342402</td>\n",
              "      <td>1.260019</td>\n",
              "      <td>-1.142613</td>\n",
              "    </tr>\n",
              "    <tr>\n",
              "      <th>90</th>\n",
              "      <td>0</td>\n",
              "      <td>0</td>\n",
              "      <td>0</td>\n",
              "      <td>1</td>\n",
              "      <td>-0.648968</td>\n",
              "      <td>-1.701942</td>\n",
              "      <td>-1.010325</td>\n",
              "      <td>1.538294</td>\n",
              "      <td>-0.564093</td>\n",
              "      <td>0.696432</td>\n",
              "      <td>-1.142613</td>\n",
              "    </tr>\n",
              "    <tr>\n",
              "      <th>70</th>\n",
              "      <td>1</td>\n",
              "      <td>1</td>\n",
              "      <td>1</td>\n",
              "      <td>0</td>\n",
              "      <td>-2.329681</td>\n",
              "      <td>0.402240</td>\n",
              "      <td>1.226557</td>\n",
              "      <td>-0.178620</td>\n",
              "      <td>-0.736759</td>\n",
              "      <td>1.322639</td>\n",
              "      <td>-0.764443</td>\n",
              "    </tr>\n",
              "  </tbody>\n",
              "</table>\n",
              "</div>\n",
              "      <button class=\"colab-df-convert\" onclick=\"convertToInteractive('df-8312b45d-7176-4279-93a6-594424362837')\"\n",
              "              title=\"Convert this dataframe to an interactive table.\"\n",
              "              style=\"display:none;\">\n",
              "        \n",
              "  <svg xmlns=\"http://www.w3.org/2000/svg\" height=\"24px\"viewBox=\"0 0 24 24\"\n",
              "       width=\"24px\">\n",
              "    <path d=\"M0 0h24v24H0V0z\" fill=\"none\"/>\n",
              "    <path d=\"M18.56 5.44l.94 2.06.94-2.06 2.06-.94-2.06-.94-.94-2.06-.94 2.06-2.06.94zm-11 1L8.5 8.5l.94-2.06 2.06-.94-2.06-.94L8.5 2.5l-.94 2.06-2.06.94zm10 10l.94 2.06.94-2.06 2.06-.94-2.06-.94-.94-2.06-.94 2.06-2.06.94z\"/><path d=\"M17.41 7.96l-1.37-1.37c-.4-.4-.92-.59-1.43-.59-.52 0-1.04.2-1.43.59L10.3 9.45l-7.72 7.72c-.78.78-.78 2.05 0 2.83L4 21.41c.39.39.9.59 1.41.59.51 0 1.02-.2 1.41-.59l7.78-7.78 2.81-2.81c.8-.78.8-2.07 0-2.86zM5.41 20L4 18.59l7.72-7.72 1.47 1.35L5.41 20z\"/>\n",
              "  </svg>\n",
              "      </button>\n",
              "      \n",
              "  <style>\n",
              "    .colab-df-container {\n",
              "      display:flex;\n",
              "      flex-wrap:wrap;\n",
              "      gap: 12px;\n",
              "    }\n",
              "\n",
              "    .colab-df-convert {\n",
              "      background-color: #E8F0FE;\n",
              "      border: none;\n",
              "      border-radius: 50%;\n",
              "      cursor: pointer;\n",
              "      display: none;\n",
              "      fill: #1967D2;\n",
              "      height: 32px;\n",
              "      padding: 0 0 0 0;\n",
              "      width: 32px;\n",
              "    }\n",
              "\n",
              "    .colab-df-convert:hover {\n",
              "      background-color: #E2EBFA;\n",
              "      box-shadow: 0px 1px 2px rgba(60, 64, 67, 0.3), 0px 1px 3px 1px rgba(60, 64, 67, 0.15);\n",
              "      fill: #174EA6;\n",
              "    }\n",
              "\n",
              "    [theme=dark] .colab-df-convert {\n",
              "      background-color: #3B4455;\n",
              "      fill: #D2E3FC;\n",
              "    }\n",
              "\n",
              "    [theme=dark] .colab-df-convert:hover {\n",
              "      background-color: #434B5C;\n",
              "      box-shadow: 0px 1px 3px 1px rgba(0, 0, 0, 0.15);\n",
              "      filter: drop-shadow(0px 1px 2px rgba(0, 0, 0, 0.3));\n",
              "      fill: #FFFFFF;\n",
              "    }\n",
              "  </style>\n",
              "\n",
              "      <script>\n",
              "        const buttonEl =\n",
              "          document.querySelector('#df-8312b45d-7176-4279-93a6-594424362837 button.colab-df-convert');\n",
              "        buttonEl.style.display =\n",
              "          google.colab.kernel.accessAllowed ? 'block' : 'none';\n",
              "\n",
              "        async function convertToInteractive(key) {\n",
              "          const element = document.querySelector('#df-8312b45d-7176-4279-93a6-594424362837');\n",
              "          const dataTable =\n",
              "            await google.colab.kernel.invokeFunction('convertToInteractive',\n",
              "                                                     [key], {});\n",
              "          if (!dataTable) return;\n",
              "\n",
              "          const docLinkHtml = 'Like what you see? Visit the ' +\n",
              "            '<a target=\"_blank\" href=https://colab.research.google.com/notebooks/data_table.ipynb>data table notebook</a>'\n",
              "            + ' to learn more about interactive tables.';\n",
              "          element.innerHTML = '';\n",
              "          dataTable['output_type'] = 'display_data';\n",
              "          await google.colab.output.renderOutput(dataTable, element);\n",
              "          const docLink = document.createElement('div');\n",
              "          docLink.innerHTML = docLinkHtml;\n",
              "          element.appendChild(docLink);\n",
              "        }\n",
              "      </script>\n",
              "    </div>\n",
              "  </div>\n",
              "  "
            ]
          },
          "metadata": {},
          "execution_count": 11
        }
      ],
      "source": [
        "X_test_numerics = X_test.select_dtypes(exclude = 'object')\n",
        "X_test_numeric = pd.DataFrame(ss.transform(X_test_numerics))\n",
        "X_test_numeric.set_index(X_test.index, inplace = True)\n",
        "X_test_numeric.columns = X_test_numerics.columns\n",
        "X_test_numeric.head()\n",
        "X_test_cat = X_test.select_dtypes(include = 'object')\n",
        "X_test_cat.Urban = urban_bin.transform(X_test_cat.Urban)\n",
        "X_test_cat.US = us_bin.transform(X_test_cat.US)\n",
        "\n",
        "X_cat_prepped1 = X_test_cat.merge(pd.get_dummies(X_test_cat.ShelveLoc, drop_first=True), left_index=True, right_index=True)\n",
        "X_cat_prepped1.drop('ShelveLoc', axis = 1, inplace=True)\n",
        "\n",
        "X_test_prep = pd.merge(X_cat_prepped1, X_test_numeric, left_index = True, right_index = True)\n",
        "X_test_prep.head()"
      ]
    },
    {
      "cell_type": "code",
      "execution_count": null,
      "metadata": {
        "colab": {
          "base_uri": "https://localhost:8080/"
        },
        "id": "ZE7lTGG-MBSU",
        "outputId": "0878a067-a84e-4ac4-a930-fb05fa30dc75"
      },
      "outputs": [
        {
          "output_type": "execute_result",
          "data": {
            "text/plain": [
              "11     11.96\n",
              "214     4.83\n",
              "361     8.68\n",
              "358     4.17\n",
              "54      4.90\n",
              "       ...  \n",
              "146     3.90\n",
              "66      8.85\n",
              "216     5.73\n",
              "391     6.10\n",
              "20      6.41\n",
              "Name: Sales, Length: 271, dtype: float64"
            ]
          },
          "metadata": {},
          "execution_count": 12
        }
      ],
      "source": [
        "y_train"
      ]
    },
    {
      "cell_type": "code",
      "execution_count": null,
      "metadata": {
        "colab": {
          "base_uri": "https://localhost:8080/"
        },
        "id": "6ir3CCSdMBSV",
        "outputId": "153cfeb0-46fe-4ca1-9288-4620ef83ac84"
      },
      "outputs": [
        {
          "output_type": "stream",
          "name": "stderr",
          "text": [
            "[flaml.automl: 10-05 19:05:34] {2600} INFO - task = regression\n",
            "INFO:flaml.automl:task = regression\n",
            "[flaml.automl: 10-05 19:05:34] {2602} INFO - Data split method: uniform\n",
            "INFO:flaml.automl:Data split method: uniform\n",
            "[flaml.automl: 10-05 19:05:34] {2605} INFO - Evaluation method: holdout\n",
            "INFO:flaml.automl:Evaluation method: holdout\n",
            "[flaml.automl: 10-05 19:05:34] {2727} INFO - Minimizing error metric: 1-r2\n",
            "INFO:flaml.automl:Minimizing error metric: 1-r2\n",
            "[flaml.automl: 10-05 19:05:34] {2778} WARNING - No search budget is provided via time_budget or max_iter. Training only one model per estimator. To tune hyperparameters for each estimator, please provide budget either via time_budget or max_iter.\n",
            "WARNING:flaml.automl:No search budget is provided via time_budget or max_iter. Training only one model per estimator. To tune hyperparameters for each estimator, please provide budget either via time_budget or max_iter.\n",
            "INFO:flaml.default.suggest:metafeature distance: 0.4218594382600944\n",
            "INFO:flaml.default.suggest:metafeature distance: 0.1982436241729096\n",
            "INFO:flaml.default.suggest:metafeature distance: 0.41544258228503117\n",
            "INFO:flaml.default.suggest:metafeature distance: 0.15380895552915208\n",
            "INFO:flaml.default.suggest:metafeature distance: 1.0328863802655215\n",
            "INFO:flaml.default.suggest:metafeature distance: 0.14145753307343956\n",
            "[flaml.automl: 10-05 19:05:34] {162} WARNING - Starting points outside of the search space are removed. Remaining starting points: []\n",
            "WARNING:flaml.automl:Starting points outside of the search space are removed. Remaining starting points: []\n",
            "[flaml.automl: 10-05 19:05:34] {162} WARNING - Starting points outside of the search space are removed. Remaining starting points: []\n",
            "WARNING:flaml.automl:Starting points outside of the search space are removed. Remaining starting points: []\n",
            "[flaml.automl: 10-05 19:05:34] {162} WARNING - Starting points outside of the search space are removed. Remaining starting points: []\n",
            "WARNING:flaml.automl:Starting points outside of the search space are removed. Remaining starting points: []\n",
            "[flaml.automl: 10-05 19:05:34] {162} WARNING - Starting points outside of the search space are removed. Remaining starting points: []\n",
            "WARNING:flaml.automl:Starting points outside of the search space are removed. Remaining starting points: []\n",
            "[flaml.automl: 10-05 19:05:34] {2869} INFO - List of ML learners in AutoML Run: ['lgbm', 'rf', 'xgboost', 'extra_tree', 'xgb_limitdepth']\n",
            "INFO:flaml.automl:List of ML learners in AutoML Run: ['lgbm', 'rf', 'xgboost', 'extra_tree', 'xgb_limitdepth']\n",
            "[flaml.automl: 10-05 19:05:34] {3174} INFO - iteration 0, current learner lgbm\n",
            "INFO:flaml.automl:iteration 0, current learner lgbm\n",
            "[flaml.automl: 10-05 19:05:34] {3308} INFO - Estimated sufficient time budget=456s. Estimated necessary time budget=3s.\n",
            "INFO:flaml.automl:Estimated sufficient time budget=456s. Estimated necessary time budget=3s.\n",
            "[flaml.automl: 10-05 19:05:34] {3360} INFO -  at 0.2s,\testimator lgbm's best error=1.0005,\tbest estimator lgbm's best error=1.0005\n",
            "INFO:flaml.automl: at 0.2s,\testimator lgbm's best error=1.0005,\tbest estimator lgbm's best error=1.0005\n",
            "[flaml.automl: 10-05 19:05:34] {3174} INFO - iteration 1, current learner rf\n",
            "INFO:flaml.automl:iteration 1, current learner rf\n",
            "[flaml.automl: 10-05 19:05:34] {3360} INFO -  at 0.6s,\testimator rf's best error=0.4108,\tbest estimator rf's best error=0.4108\n",
            "INFO:flaml.automl: at 0.6s,\testimator rf's best error=0.4108,\tbest estimator rf's best error=0.4108\n",
            "[flaml.automl: 10-05 19:05:34] {3174} INFO - iteration 2, current learner xgboost\n",
            "INFO:flaml.automl:iteration 2, current learner xgboost\n",
            "[flaml.automl: 10-05 19:05:35] {3360} INFO -  at 0.7s,\testimator xgboost's best error=2.7188,\tbest estimator rf's best error=0.4108\n",
            "INFO:flaml.automl: at 0.7s,\testimator xgboost's best error=2.7188,\tbest estimator rf's best error=0.4108\n",
            "[flaml.automl: 10-05 19:05:35] {3174} INFO - iteration 3, current learner extra_tree\n",
            "INFO:flaml.automl:iteration 3, current learner extra_tree\n",
            "[flaml.automl: 10-05 19:05:35] {3360} INFO -  at 1.0s,\testimator extra_tree's best error=0.4081,\tbest estimator extra_tree's best error=0.4081\n",
            "INFO:flaml.automl: at 1.0s,\testimator extra_tree's best error=0.4081,\tbest estimator extra_tree's best error=0.4081\n",
            "[flaml.automl: 10-05 19:05:35] {3174} INFO - iteration 4, current learner xgb_limitdepth\n",
            "INFO:flaml.automl:iteration 4, current learner xgb_limitdepth\n",
            "[flaml.automl: 10-05 19:05:35] {3360} INFO -  at 1.1s,\testimator xgb_limitdepth's best error=0.2376,\tbest estimator xgb_limitdepth's best error=0.2376\n",
            "INFO:flaml.automl: at 1.1s,\testimator xgb_limitdepth's best error=0.2376,\tbest estimator xgb_limitdepth's best error=0.2376\n",
            "[flaml.automl: 10-05 19:05:35] {3620} INFO - retrain xgb_limitdepth for 0.0s\n",
            "INFO:flaml.automl:retrain xgb_limitdepth for 0.0s\n",
            "[flaml.automl: 10-05 19:05:35] {3625} INFO - retrained model: XGBRegressor(colsample_bylevel=1.0, colsample_bytree=1.0,\n",
            "             learning_rate=0.29999999999999993, max_depth=6,\n",
            "             min_child_weight=0.9999999999999993, n_estimators=10, n_jobs=-1,\n",
            "             reg_alpha=0.0009765625, reg_lambda=1.0, subsample=1.0,\n",
            "             use_label_encoder=False, verbosity=0)\n",
            "INFO:flaml.automl:retrained model: XGBRegressor(colsample_bylevel=1.0, colsample_bytree=1.0,\n",
            "             learning_rate=0.29999999999999993, max_depth=6,\n",
            "             min_child_weight=0.9999999999999993, n_estimators=10, n_jobs=-1,\n",
            "             reg_alpha=0.0009765625, reg_lambda=1.0, subsample=1.0,\n",
            "             use_label_encoder=False, verbosity=0)\n",
            "[flaml.automl: 10-05 19:05:35] {2900} INFO - fit succeeded\n",
            "INFO:flaml.automl:fit succeeded\n",
            "[flaml.automl: 10-05 19:05:35] {2902} INFO - Time taken to find the best model: 1.0696585178375244\n",
            "INFO:flaml.automl:Time taken to find the best model: 1.0696585178375244\n"
          ]
        }
      ],
      "source": [
        "from flaml import AutoML\n",
        "automl = AutoML()\n",
        "automl.fit(X_train_prep, y_train, task=\"regression\")"
      ]
    },
    {
      "cell_type": "code",
      "execution_count": null,
      "metadata": {
        "colab": {
          "base_uri": "https://localhost:8080/"
        },
        "id": "zuSnnkziMBSV",
        "outputId": "7576ed99-ad48-4a1d-8732-60e92a98ebd4"
      },
      "outputs": [
        {
          "output_type": "execute_result",
          "data": {
            "text/plain": [
              "AutoML(append_log=False, auto_augment=True, custom_hp={},\n",
              "       cv_score_agg_func=None, early_stop=False, ensemble=False,\n",
              "       estimator_list='auto', eval_method='auto', fit_kwargs_by_estimator={},\n",
              "       hpo_method='auto', keep_search_state=False, learner_selector='sample',\n",
              "       log_file_name='', log_training_metric=False, log_type='better',\n",
              "       max_iter=None, mem_thres=4294967296, metric='auto',\n",
              "       metric_constraints=[], min_sample_size=10000, model_history=False,\n",
              "       n_concurrent_trials=1, n_jobs=-1, n_splits=5, pred_time_limit=inf,\n",
              "       preserve_checkpoint=True, retrain_full=True, sample=True,\n",
              "       skip_transform=False, split_ratio=0.1, ...)"
            ]
          },
          "metadata": {},
          "execution_count": 14
        }
      ],
      "source": [
        "automl"
      ]
    },
    {
      "cell_type": "code",
      "execution_count": null,
      "metadata": {
        "colab": {
          "base_uri": "https://localhost:8080/"
        },
        "id": "MzQqiEuqMBSV",
        "outputId": "8b7305d7-60c7-46b5-c18c-bfc75b03dacd"
      },
      "outputs": [
        {
          "output_type": "execute_result",
          "data": {
            "text/plain": [
              "3.028736303878268"
            ]
          },
          "metadata": {},
          "execution_count": 15
        }
      ],
      "source": [
        "from sklearn.metrics import mean_squared_error\n",
        "\n",
        "pred = automl.predict(X_test_prep)\n",
        "mse = mean_squared_error(y_test, pred)\n",
        "mse"
      ]
    },
    {
      "cell_type": "code",
      "execution_count": null,
      "metadata": {
        "id": "Z9VFp_GQMBSW",
        "colab": {
          "base_uri": "https://localhost:8080/",
          "height": 282
        },
        "outputId": "d22d5ca8-0291-4f7c-dd0d-5b2f360181f1"
      },
      "outputs": [
        {
          "output_type": "execute_result",
          "data": {
            "text/plain": [
              "<matplotlib.collections.PathCollection at 0x7fa30ccffb50>"
            ]
          },
          "metadata": {},
          "execution_count": 16
        },
        {
          "output_type": "display_data",
          "data": {
            "text/plain": [
              "<Figure size 432x288 with 1 Axes>"
            ],
            "image/png": "[encoded data removed]"
          },
          "metadata": {
            "needs_background": "light"
          }
        }
      ],
      "source": [
        "import matplotlib.pyplot as plt\n",
        "plt.scatter(pred, y_test)"
      ]
    },
    {
      "cell_type": "code",
      "execution_count": null,
      "metadata": {
        "id": "v2uw-pOEMBSW",
        "colab": {
          "base_uri": "https://localhost:8080/"
        },
        "outputId": "a1f13bfc-4753-4cbc-ca1a-6bd7f13cac0f"
      },
      "outputs": [
        {
          "output_type": "stream",
          "name": "stdout",
          "text": [
            "XGBRegressor(colsample_bylevel=1.0, colsample_bytree=1.0,\n",
            "             learning_rate=0.29999999999999993, max_depth=6,\n",
            "             min_child_weight=0.9999999999999993, n_estimators=10, n_jobs=-1,\n",
            "             reg_alpha=0.0009765625, reg_lambda=1.0, subsample=1.0,\n",
            "             use_label_encoder=False, verbosity=0)\n"
          ]
        }
      ],
      "source": [
        "print(automl.model.estimator)"
      ]
    }
  ],
  "metadata": {
    "hide_input": false,
    "kernelspec": {
      "display_name": "Python 3",
      "language": "python",
      "name": "python3"
    },
    "language_info": {
      "codemirror_mode": {
        "name": "ipython",
        "version": 3
      },
      "file_extension": ".py",
      "mimetype": "text/x-python",
      "name": "python",
      "nbconvert_exporter": "python",
      "pygments_lexer": "ipython3",
      "version": "3.8.5"
    },
    "colab": {
      "provenance": [],
      "collapsed_sections": []
    }
  },
  "nbformat": 4,
  "nbformat_minor": 0
}